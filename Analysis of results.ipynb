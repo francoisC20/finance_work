{
 "cells": [
  {
   "cell_type": "markdown",
   "id": "60a622dc",
   "metadata": {},
   "source": [
    "# Importation of libraries"
   ]
  },
  {
   "cell_type": "code",
   "execution_count": 98,
   "id": "cd4ce98d",
   "metadata": {},
   "outputs": [
    {
     "name": "stdout",
     "output_type": "stream",
     "text": [
      "The autoreload extension is already loaded. To reload it, use:\n",
      "  %reload_ext autoreload\n"
     ]
    }
   ],
   "source": [
    "from Finite_Difference_Methods import *\n",
    "from Option_Pricing import *\n",
    "from analysis_tools_kit import *\n",
    "\n",
    "%load_ext autoreload\n",
    "%autoreload 2"
   ]
  },
  {
   "cell_type": "markdown",
   "id": "cb7a2c1a",
   "metadata": {},
   "source": [
    "# Variation of strike prices"
   ]
  },
  {
   "cell_type": "markdown",
   "id": "b5ea1cb7",
   "metadata": {},
   "source": [
    "Inputs"
   ]
  },
  {
   "cell_type": "code",
   "execution_count": 55,
   "id": "7851b3cc",
   "metadata": {},
   "outputs": [],
   "source": [
    "# set up fixed parameters\n",
    "S0 = 50\n",
    "#K = 50\n",
    "r = 0.05\n",
    "T = 1/2\n",
    "sigma = 0.2\n",
    "Smax = 100\n",
    "M = 100  # S\n",
    "N = 1000 # t\n",
    "is_call = True\n",
    "\n",
    "\n",
    "# variable\n",
    "strike_range = np.linspace(45,55,11)"
   ]
  },
  {
   "cell_type": "code",
   "execution_count": 64,
   "id": "add57bf3",
   "metadata": {},
   "outputs": [],
   "source": [
    "# Explicit method\n",
    "option_EU_Explicit = np.zeros(11)\n",
    "for i in range(11):\n",
    "    option= FDM_Explicit(S0, strike_range[i], r, T, sigma, Smax, M, N, is_call)\n",
    "    option_EU_Explicit[i] = option.price()"
   ]
  },
  {
   "cell_type": "code",
   "execution_count": 65,
   "id": "2243f0fb",
   "metadata": {},
   "outputs": [],
   "source": [
    "# Implicit method\n",
    "option_EU_Implicit = np.zeros(11)\n",
    "for i in range(11):\n",
    "    option= FDM_Implicit(S0, strike_range[i], r, T, sigma, Smax, M, N, is_call)\n",
    "    option_EU_Implicit[i] = option.price()"
   ]
  },
  {
   "cell_type": "code",
   "execution_count": 66,
   "id": "22e4bcc1",
   "metadata": {},
   "outputs": [],
   "source": [
    "# Crank Nicolson\n",
    "option_CN = np.zeros(11)\n",
    "for i in range(11):\n",
    "    option = FDM_Crank_Nicolson(S0, strike_range[i], r, T, sigma, Smax, M, N, is_call)\n",
    "    option_CN[i] = option.price()"
   ]
  },
  {
   "cell_type": "code",
   "execution_count": 68,
   "id": "c6fffdf6",
   "metadata": {},
   "outputs": [],
   "source": [
    "# Monte Carlo method\n",
    "N = int(1E6)\n",
    "option_MC = np.zeros(11)\n",
    "for i in range(11):\n",
    "    option = Option(S0, strike_range[i], r, sigma,T, is_call)\n",
    "    option_MC[i] = option.Monte_Carlo(N)"
   ]
  },
  {
   "cell_type": "code",
   "execution_count": 67,
   "id": "b9327ad4",
   "metadata": {},
   "outputs": [],
   "source": [
    "# Closed Form : analytic solution\n",
    "option_BS = np.zeros(11)\n",
    "for i in range(11):\n",
    "    option = Option(S0, strike_range[i], r, sigma,T, is_call)\n",
    "    option_BS[i] = option.BS_formula()"
   ]
  },
  {
   "cell_type": "code",
   "execution_count": 70,
   "id": "d6c03efb",
   "metadata": {},
   "outputs": [
    {
     "name": "stdout",
     "output_type": "stream",
     "text": [
      "      Eu. Explicit  Eu. Implicit  Crank Nicolson  Monte Carlo  BS Analytic\n",
      "45.0      6.744953      6.744618        6.744786     6.752801     6.749259\n",
      "46.0      5.983397      5.982937        5.983167     5.982888     5.988484\n",
      "47.0      5.268837      5.268264        5.268550     5.292482     5.274594\n",
      "48.0      4.604850      4.604190        4.604520     4.613077     4.611117\n",
      "49.0      3.993987      3.993276        3.993632     4.004938     4.000570\n",
      "50.0      3.437679      3.436957        3.437318     3.446464     3.444364\n",
      "51.0      2.936207      2.935518        2.935862     2.936540     2.942786\n",
      "52.0      2.488762      2.488146        2.488454     2.491864     2.495041\n",
      "53.0      2.093549      2.093042        2.093296     2.101351     2.099368\n",
      "54.0      1.747942      1.747570        1.747756     1.749972     1.753177\n",
      "55.0      1.448663      1.448442        1.448553     1.449848     1.453236\n"
     ]
    }
   ],
   "source": [
    "show_results(strike_range,\n",
    "             option_EU_Explicit,\n",
    "             option_EU_Implicit,\n",
    "             option_CN,\n",
    "             option_MC,\n",
    "             option_BS)"
   ]
  },
  {
   "cell_type": "markdown",
   "id": "aed22150",
   "metadata": {},
   "source": [
    "# Variation of volatility"
   ]
  },
  {
   "cell_type": "code",
   "execution_count": 76,
   "id": "70f0ee83",
   "metadata": {},
   "outputs": [],
   "source": [
    "# set up fixed parameters\n",
    "S0 = 50\n",
    "K = 48\n",
    "r = 0.05\n",
    "T = 1/2\n",
    "#sigma = 0.2\n",
    "Smax = 100\n",
    "M = 100  # S\n",
    "N = 1000 # t\n",
    "is_call = True\n",
    "\n",
    "\n",
    "# variable\n",
    "volatility_range = np.arange(0.1,0.4,0.05)"
   ]
  },
  {
   "cell_type": "code",
   "execution_count": 90,
   "id": "7634300c",
   "metadata": {},
   "outputs": [],
   "source": [
    "# Explicit method\n",
    "option_EU_Explicit = np.zeros(7)\n",
    "for i in range(7):\n",
    "    option= FDM_Explicit(S0, K, r, T, volatility_range[i], Smax, M, N, is_call)\n",
    "    option_EU_Explicit[i] = option.price()"
   ]
  },
  {
   "cell_type": "code",
   "execution_count": 79,
   "id": "86c9c340",
   "metadata": {},
   "outputs": [],
   "source": [
    "# Implicit method\n",
    "option_EU_Implicit = np.zeros(7)\n",
    "for i in range(7):\n",
    "    option= FDM_Implicit(S0, K, r, T, volatility_range[i], Smax, M, N, is_call)\n",
    "    option_EU_Implicit[i] = option.price()"
   ]
  },
  {
   "cell_type": "code",
   "execution_count": 80,
   "id": "3611623a",
   "metadata": {},
   "outputs": [],
   "source": [
    "# Crank Nicolson\n",
    "option_CN = np.zeros(7)\n",
    "for i in range(7):\n",
    "    option = FDM_Crank_Nicolson(S0, K, r, T, volatility_range[i], Smax, M, N, is_call)\n",
    "    option_CN[i] = option.price()"
   ]
  },
  {
   "cell_type": "code",
   "execution_count": 82,
   "id": "3714d1ea",
   "metadata": {},
   "outputs": [],
   "source": [
    "# Monte Carlo method\n",
    "N = int(1E6)\n",
    "option_MC = np.zeros(7)\n",
    "for i in range(7):\n",
    "    option = Option(S0, K, r, volatility_range[i],T, is_call)\n",
    "    option_MC[i] = option.Monte_Carlo(N)"
   ]
  },
  {
   "cell_type": "code",
   "execution_count": 83,
   "id": "1cfcca32",
   "metadata": {},
   "outputs": [],
   "source": [
    "# Closed Form : analytic solution\n",
    "option_BS = np.zeros(7)\n",
    "for i in range(7):\n",
    "    option = Option(S0, K, r, volatility_range[i],T, is_call)\n",
    "    option_BS[i] = option.BS_formula()"
   ]
  },
  {
   "cell_type": "code",
   "execution_count": 85,
   "id": "a8262945",
   "metadata": {},
   "outputs": [
    {
     "name": "stdout",
     "output_type": "stream",
     "text": [
      "      Eu. Explicit  Eu. Implicit  Crank Nicolson  Monte Carlo  BS Analytic\n",
      "0.10      3.499055      3.498811        3.498933     3.514188     3.509576\n",
      "0.15      4.013325      4.012866        4.013096     4.026001     4.021449\n",
      "0.20      4.604850      4.604190        4.604520     4.607002     4.611117\n",
      "0.25      5.229971      5.229117        5.229544     5.237031     5.234931\n",
      "0.30      5.871993      5.870949        5.871471     5.870839     5.875997\n",
      "0.35      6.523234      6.522000        6.522617     6.516215     6.526503\n",
      "0.40      7.179633      7.178211        7.178922     7.187234     7.182316\n"
     ]
    }
   ],
   "source": [
    "show_results(volatility_range,\n",
    "             option_EU_Explicit,\n",
    "             option_EU_Implicit,\n",
    "             option_CN,\n",
    "             option_MC,\n",
    "             option_BS)"
   ]
  },
  {
   "cell_type": "markdown",
   "id": "de636636",
   "metadata": {},
   "source": [
    "# Variability of time step"
   ]
  },
  {
   "cell_type": "code",
   "execution_count": 87,
   "id": "8b81e0b3",
   "metadata": {},
   "outputs": [],
   "source": [
    "# set up fixed parameters\n",
    "S0 = 50\n",
    "K = 48\n",
    "r = 0.05\n",
    "T = 1/2\n",
    "sigma = 0.2\n",
    "Smax = 100\n",
    "M = 100  # S\n",
    "#N = 1000 # t\n",
    "is_call = True\n",
    "\n",
    "\n",
    "\n",
    "# variable \n",
    "time_step_range = np.array([10,30,50,70,100,\n",
    "                            200, 500, 800, 1000, 1200,\n",
    "                            1500, 1800, 2000])"
   ]
  },
  {
   "cell_type": "code",
   "execution_count": 91,
   "id": "8496e33b",
   "metadata": {},
   "outputs": [],
   "source": [
    "# Explicit method\n",
    "option_EU_Explicit = np.zeros(13)\n",
    "for i in range(13):\n",
    "    option= FDM_Explicit(S0, K, r, T, sigma, Smax, M, time_step_range[i], is_call)\n",
    "    option_EU_Explicit[i] = option.price()"
   ]
  },
  {
   "cell_type": "code",
   "execution_count": 92,
   "id": "904df0d8",
   "metadata": {},
   "outputs": [],
   "source": [
    "# Implicit method\n",
    "option_EU_Implicit = np.zeros(13)\n",
    "for i in range(13):\n",
    "    option= FDM_Implicit(S0, K, r, T, sigma, Smax, M, time_step_range[i], is_call)\n",
    "    option_EU_Implicit[i] = option.price()"
   ]
  },
  {
   "cell_type": "code",
   "execution_count": 93,
   "id": "43aa7a48",
   "metadata": {},
   "outputs": [],
   "source": [
    "# Crank Nicolson\n",
    "option_CN = np.zeros(13)\n",
    "for i in range(13):\n",
    "    option = FDM_Crank_Nicolson(S0, K, r, T, sigma, Smax, M, time_step_range[i], is_call)\n",
    "    option_CN[i] = option.price()"
   ]
  },
  {
   "cell_type": "code",
   "execution_count": 112,
   "id": "01f5ab0e",
   "metadata": {},
   "outputs": [],
   "source": [
    "# Monte Carlo method\n",
    "N = int(1E6)\n",
    "option_MC = np.ones(13)\n",
    "option = Option(S0, K, r, sigma,T, is_call)\n",
    "option_MC *= option.Monte_Carlo(N)"
   ]
  },
  {
   "cell_type": "code",
   "execution_count": null,
   "id": "98a7f384",
   "metadata": {},
   "outputs": [],
   "source": [
    "# Closed Form : analytic solution\n",
    "option_BS = np.ones(13)\n",
    "option = Option(S0, K, r, sigma,T, is_call)\n",
    "option_BS *= option.BS_formula()"
   ]
  },
  {
   "cell_type": "code",
   "execution_count": 113,
   "id": "a386cf5a",
   "metadata": {},
   "outputs": [
    {
     "name": "stdout",
     "output_type": "stream",
     "text": [
      "      Eu. Explicit  Eu. Implicit  Crank Nicolson  Monte Carlo  BS Analytic\n",
      "10   -6.497702e+07      4.571987        4.604852     4.622191     4.611117\n",
      "30   -3.171868e+09      4.593575        4.604602     4.622191     4.611117\n",
      "50   -3.198576e+03      4.597941        4.604549     4.622191     4.611117\n",
      "70    4.696320e+00      4.599817        4.604535     4.622191     4.611117\n",
      "100   4.607910e+00      4.601226        4.604527     4.622191     4.611117\n",
      "200   4.606170e+00      4.602872        4.604522     4.622191     4.611117\n",
      "500   4.605179e+00      4.603860        4.604520     4.622191     4.611117\n",
      "800   4.604932e+00      4.604108        4.604520     4.622191     4.611117\n",
      "1000  4.604850e+00      4.604190        4.604520     4.622191     4.611117\n",
      "1200  4.604795e+00      4.604245        4.604520     4.622191     4.611117\n",
      "1500  4.604740e+00      4.604300        4.604520     4.622191     4.611117\n",
      "1800  4.604703e+00      4.604337        4.604520     4.622191     4.611117\n",
      "2000  4.604685e+00      4.604355        4.604520     4.622191     4.611117\n"
     ]
    }
   ],
   "source": [
    "show_results(time_step_range,\n",
    "             option_EU_Explicit,\n",
    "             option_EU_Implicit,\n",
    "             option_CN,\n",
    "             option_MC,\n",
    "             option_BS)"
   ]
  },
  {
   "cell_type": "markdown",
   "id": "e3c1152f",
   "metadata": {},
   "source": [
    "# Variability of price range"
   ]
  },
  {
   "cell_type": "code",
   "execution_count": 130,
   "id": "da3aa475",
   "metadata": {},
   "outputs": [],
   "source": [
    "# set up fixed parameters\n",
    "S0 = 50\n",
    "K = 48\n",
    "r = 0.05\n",
    "T = 1/2\n",
    "sigma = 0.2\n",
    "Smax = 100\n",
    "#M = 100  # S\n",
    "N = 1000 # t\n",
    "is_call = True\n",
    "\n",
    "\n",
    "\n",
    "# variable \n",
    "price_step_range = np.array([30,50,70,100,\n",
    "                            150, 200, 300, 500])"
   ]
  },
  {
   "cell_type": "code",
   "execution_count": 140,
   "id": "d2e0638f",
   "metadata": {},
   "outputs": [],
   "source": [
    "# Explicit method\n",
    "option_EU_Explicit = np.zeros(8)\n",
    "for i in range(8):\n",
    "    option= FDM_Explicit(S0, K, r, T, sigma, Smax, price_step_range[i], N, is_call)\n",
    "    option_EU_Explicit[i] = option.price()"
   ]
  },
  {
   "cell_type": "code",
   "execution_count": 141,
   "id": "2d0147b1",
   "metadata": {},
   "outputs": [],
   "source": [
    "# Implicit method\n",
    "option_EU_Implicit = np.zeros(8)\n",
    "for i in range(8):\n",
    "    option= FDM_Implicit(S0, K, r, T, sigma, Smax, price_step_range[i], N, is_call)\n",
    "    option_EU_Implicit[i] = option.price()"
   ]
  },
  {
   "cell_type": "code",
   "execution_count": 142,
   "id": "7c2d1718",
   "metadata": {},
   "outputs": [],
   "source": [
    "# Crank Nicolson\n",
    "option_CN = np.zeros(8)\n",
    "for i in range(8):\n",
    "    option = FDM_Crank_Nicolson(S0, K, r, T, sigma, Smax, price_step_range[i],N, is_call)\n",
    "    option_CN[i] = option.price()"
   ]
  },
  {
   "cell_type": "code",
   "execution_count": 143,
   "id": "85f48544",
   "metadata": {},
   "outputs": [],
   "source": [
    "# Monte Carlo method\n",
    "N = int(1E6)\n",
    "option_MC = np.ones(8)\n",
    "option = Option(S0, K, r, sigma,T, is_call)\n",
    "option_MC *= option.Monte_Carlo(N)"
   ]
  },
  {
   "cell_type": "code",
   "execution_count": 135,
   "id": "b910cd28",
   "metadata": {},
   "outputs": [],
   "source": [
    "# Closed Form : analytic solution\n",
    "option_BS = np.ones(8)\n",
    "option = Option(S0, K, r, sigma,T, is_call)\n",
    "option_BS *= option.BS_formula()"
   ]
  },
  {
   "cell_type": "code",
   "execution_count": 144,
   "id": "d53dd6ae",
   "metadata": {},
   "outputs": [
    {
     "name": "stdout",
     "output_type": "stream",
     "text": [
      "     Eu. Explicit  Eu. Implicit  Crank Nicolson  Monte Carlo  BS Analytic\n",
      "30       4.610053      4.609410        4.609732     4.591676     4.611117\n",
      "50       4.584800      4.584129        4.584465     4.591676     4.611117\n",
      "70       4.610968      4.610313        4.610640     4.591676     4.611117\n",
      "100      4.604850      4.604190        4.604520     4.591676     4.611117\n",
      "150      4.608519      4.607861        4.608190     4.591676     4.611117\n",
      "200      4.609800      4.609143        4.609472     4.591676     4.611117\n",
      "300           NaN      4.610058        4.610386     4.591676     4.611117\n",
      "500           NaN      4.610526        4.610854     4.591676     4.611117\n"
     ]
    }
   ],
   "source": [
    "show_results(price_step_range,\n",
    "             option_EU_Explicit,\n",
    "             option_EU_Implicit,\n",
    "             option_CN,\n",
    "             option_MC,\n",
    "             option_BS)"
   ]
  },
  {
   "cell_type": "markdown",
   "id": "30d2ed84",
   "metadata": {},
   "source": [
    "# Variation of maturity"
   ]
  },
  {
   "cell_type": "code",
   "execution_count": 169,
   "id": "4aaf015b",
   "metadata": {},
   "outputs": [],
   "source": [
    "# set up fixed parameters\n",
    "S0 = 50\n",
    "K = 48\n",
    "r = 0.05\n",
    "#T = 1/2\n",
    "sigma = 0.2\n",
    "Smax = 100\n",
    "M = 100  # S\n",
    "N = 1000 # t\n",
    "is_call = True\n",
    "\n",
    "\n",
    "\n",
    "# variable\n",
    "maturity_range = np.array([1/12,2/12,3/12,6/12,\n",
    "                            9/12, 1., 1.5, 2])"
   ]
  },
  {
   "cell_type": "code",
   "execution_count": 152,
   "id": "741c29e2",
   "metadata": {},
   "outputs": [],
   "source": [
    "# Explicit method\n",
    "option_EU_Explicit = np.zeros(8)\n",
    "for i in range(8):\n",
    "    option= FDM_Explicit(S0, K, r, maturity_range[i], sigma, Smax, M, N, is_call)\n",
    "    option_EU_Explicit[i] = option.price()"
   ]
  },
  {
   "cell_type": "code",
   "execution_count": 153,
   "id": "9a170e59",
   "metadata": {},
   "outputs": [],
   "source": [
    "# Implicit method\n",
    "option_EU_Implicit = np.zeros(8)\n",
    "for i in range(8):\n",
    "    option= FDM_Implicit(S0, K, r, maturity_range[i], sigma, Smax, M, N, is_call)\n",
    "    option_EU_Implicit[i] = option.price()"
   ]
  },
  {
   "cell_type": "code",
   "execution_count": 154,
   "id": "d2cfcea6",
   "metadata": {},
   "outputs": [],
   "source": [
    "# Crank Nicolson\n",
    "option_CN = np.zeros(8)\n",
    "for i in range(8):\n",
    "    option = FDM_Crank_Nicolson(S0, K, r, maturity_range[i], sigma, Smax, M,N, is_call)\n",
    "    option_CN[i] = option.price()"
   ]
  },
  {
   "cell_type": "code",
   "execution_count": 179,
   "id": "eeb1c458",
   "metadata": {},
   "outputs": [],
   "source": [
    "# Monte Carlo method\n",
    "N = int(1E6)\n",
    "option_MC = np.zeros(8)\n",
    "for i in range(8):\n",
    "    option = Option(S0, K, r, sigma,maturity_range[i], is_call)\n",
    "    option_MC[i] = option.Monte_Carlo(N)"
   ]
  },
  {
   "cell_type": "code",
   "execution_count": 182,
   "id": "2bc032fd",
   "metadata": {},
   "outputs": [],
   "source": [
    "# Closed Form : analytic solution\n",
    "option_BS = np.zeros(8)\n",
    "for i in range(8):\n",
    "    option = Option(S0, K, r, sigma,maturity_range[i], is_call)\n",
    "    option_BS[i] = option.BS_formula()"
   ]
  },
  {
   "cell_type": "code",
   "execution_count": 184,
   "id": "5bf13f11",
   "metadata": {},
   "outputs": [
    {
     "name": "stdout",
     "output_type": "stream",
     "text": [
      "           Eu. Explicit  Eu. Implicit  Crank Nicolson  Monte Carlo  \\\n",
      "1 month        2.540147      2.540027        2.540087     2.550849   \n",
      "2 months       3.057861      3.057573        3.057717     3.065232   \n",
      "3 months       3.501137      3.500730        3.500934     3.513030   \n",
      "6 months       4.604850      4.604190        4.604520     4.616641   \n",
      "9 months       5.531709      5.530855        5.531282     5.530159   \n",
      "1 year         6.360704      6.359680        6.360192     6.363847   \n",
      "1.5 years      7.840651      7.839317        7.839984     7.863848   \n",
      "2 years        9.167645      9.166012        9.166829     9.155156   \n",
      "\n",
      "           BS Analytic  \n",
      "1 month       2.551387  \n",
      "2 months      3.067711  \n",
      "3 months      3.509677  \n",
      "6 months      4.611117  \n",
      "9 months      5.536773  \n",
      "1 year        6.364986  \n",
      "1.5 years     7.843917  \n",
      "2 years       9.170233  \n"
     ]
    }
   ],
   "source": [
    "show_results(maturity_range,\n",
    "             option_EU_Explicit,\n",
    "             option_EU_Implicit,\n",
    "             option_CN,\n",
    "             option_MC,\n",
    "             option_BS,\n",
    "             False)"
   ]
  }
 ],
 "metadata": {
  "kernelspec": {
   "display_name": "Python 3 (ipykernel)",
   "language": "python",
   "name": "python3"
  },
  "language_info": {
   "codemirror_mode": {
    "name": "ipython",
    "version": 3
   },
   "file_extension": ".py",
   "mimetype": "text/x-python",
   "name": "python",
   "nbconvert_exporter": "python",
   "pygments_lexer": "ipython3",
   "version": "3.10.9"
  }
 },
 "nbformat": 4,
 "nbformat_minor": 5
}
